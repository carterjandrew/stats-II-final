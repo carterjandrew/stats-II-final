{
 "cells": [
  {
   "cell_type": "markdown",
   "metadata": {},
   "source": [
    "# Statistical analysis of quen llm model outliers\n",
    "**By:** *Carter Andrew*  \n",
    "`11-23-2024`"
   ]
  },
  {
   "cell_type": "markdown",
   "metadata": {},
   "source": [
    "# Intro\n",
    "Here we have some introduction to the goal of this notebook"
   ]
  },
  {
   "cell_type": "markdown",
   "metadata": {},
   "source": [
    "## Inspiration\n",
    "TODO: There is some paper talking about how larger language models have a larger number of outliers with extreme values in their weights. I want to do my own investigation to confirm if this is true"
   ]
  },
  {
   "cell_type": "markdown",
   "metadata": {},
   "source": [
    "# Setup\n",
    "Here we import libraries, set up notebook behaviour, download models, ect..."
   ]
  },
  {
   "cell_type": "code",
   "execution_count": null,
   "metadata": {},
   "outputs": [],
   "source": [
    "import pandas as pd\n",
    "import numpy as np\n",
    "from transformers import AutoTokenizer, AutoModelForCausalLM\n",
    "from matplotlib import pyplot as plt\n",
    "from scipy.stats import zscore"
   ]
  },
  {
   "cell_type": "markdown",
   "metadata": {},
   "source": [
    "## Loading models\n",
    "We can load our models for each size from `HuggingFace` by using their `transformers` library"
   ]
  },
  {
   "cell_type": "code",
   "execution_count": null,
   "metadata": {},
   "outputs": [
    {
     "data": {
      "application/vnd.jupyter.widget-view+json": {
       "model_id": "488fb621d979406985e94b11c116412b",
       "version_major": 2,
       "version_minor": 0
      },
      "text/plain": [
       "config.json:   0%|          | 0.00/684 [00:00<?, ?B/s]"
      ]
     },
     "metadata": {},
     "output_type": "display_data"
    },
    {
     "data": {
      "application/vnd.jupyter.widget-view+json": {
       "model_id": "562573ea3b3843c5bab1b44c5e516e06",
       "version_major": 2,
       "version_minor": 0
      },
      "text/plain": [
       "model.safetensors:   0%|          | 0.00/3.09G [00:00<?, ?B/s]"
      ]
     },
     "metadata": {},
     "output_type": "display_data"
    }
   ],
   "source": [
    "# This can take a while...\n",
    "model_names = [\n",
    "    \"Qwen/Qwen2.5-0.5B\",\n",
    "    \"Qwen/Qwen2.5-0.5B\",\n",
    "#    \"Qwen/Qwen2.5-1.5B\",\n",
    "#    \"Qwen/Qwen2.5-3B\",\n",
    "#    \"Qwen/Qwen2.5-7B\",\n",
    "#    \"Qwen/Qwen1.5-14B\",\n",
    "#    \"Qwen/Qwen2.5-32B\"\n",
    "]\n",
    "models = {name: AutoModelForCausalLM.from_pretrained(name) for name in model_names}"
   ]
  },
  {
   "cell_type": "markdown",
   "metadata": {},
   "source": [
    "# Grouping model layers by type\n",
    "We can group a models layers so we can ensure we don't compare apples to oranges. Each of these has a different architecture so we need so ensure we are comparing layers preform the same functions"
   ]
  },
  {
   "cell_type": "code",
   "execution_count": null,
   "metadata": {},
   "outputs": [],
   "source": [
    "layer_types = ['self_attn', 'norm', 'mlp']\n",
    "model_grouped_weights = {\n",
    "    name: {\n",
    "        \n",
    "    } for name, item in models.items()\n",
    "}"
   ]
  }
 ],
 "metadata": {
  "kernelspec": {
   "display_name": "Python 3",
   "language": "python",
   "name": "python3"
  },
  "language_info": {
   "codemirror_mode": {
    "name": "ipython",
    "version": 3
   },
   "file_extension": ".py",
   "mimetype": "text/x-python",
   "name": "python",
   "nbconvert_exporter": "python",
   "pygments_lexer": "ipython3",
   "version": "3.12.7"
  }
 },
 "nbformat": 4,
 "nbformat_minor": 2
}
